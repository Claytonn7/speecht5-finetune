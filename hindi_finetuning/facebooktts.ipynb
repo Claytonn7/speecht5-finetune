{
 "cells": [
  {
   "cell_type": "code",
   "id": "initial_id",
   "metadata": {
    "collapsed": true,
    "ExecuteTime": {
     "end_time": "2024-10-21T22:58:21.629079Z",
     "start_time": "2024-10-21T22:58:02.209023Z"
    }
   },
   "source": [
    "%%capture\n",
    "!pip install --upgrade transformers accelerate"
   ],
   "outputs": [],
   "execution_count": 1
  },
  {
   "metadata": {
    "ExecuteTime": {
     "end_time": "2024-10-21T23:19:58.400922Z",
     "start_time": "2024-10-21T23:19:53.616095Z"
    }
   },
   "cell_type": "code",
   "source": [
    "from transformers import VitsModel, AutoTokenizer\n",
    "import torch\n",
    "\n",
    "model = VitsModel.from_pretrained(\"facebook/mms-tts-hin\")\n",
    "tokenizer = AutoTokenizer.from_pretrained(\"facebook/mms-tts-hin\")\n",
    "\n",
    "text = \"क्वैं की उम्र तकरीबन अठारह साल रही होगी, यानि कि, वो नवकिशोर था, आज का टीनेजर\"\n",
    "inputs = tokenizer(text, return_tensors=\"pt\")\n",
    "\n",
    "with torch.no_grad():\n",
    "    output = model(**inputs).waveform\n"
   ],
   "id": "f3ef90fc36214020",
   "outputs": [],
   "execution_count": 5
  },
  {
   "metadata": {
    "ExecuteTime": {
     "end_time": "2024-10-21T23:20:03.084124Z",
     "start_time": "2024-10-21T23:20:03.079873Z"
    }
   },
   "cell_type": "code",
   "source": [
    "import scipy\n",
    "scipy.io.wavfile.write(\"output_facebook_mms.wav\", rate=model.config.sampling_rate, \n",
    "data=output.cpu().float().numpy().T)"
   ],
   "id": "b94603604e049049",
   "outputs": [],
   "execution_count": 6
  }
 ],
 "metadata": {
  "kernelspec": {
   "display_name": "Python 3",
   "language": "python",
   "name": "python3"
  },
  "language_info": {
   "codemirror_mode": {
    "name": "ipython",
    "version": 2
   },
   "file_extension": ".py",
   "mimetype": "text/x-python",
   "name": "python",
   "nbconvert_exporter": "python",
   "pygments_lexer": "ipython2",
   "version": "2.7.6"
  }
 },
 "nbformat": 4,
 "nbformat_minor": 5
}
